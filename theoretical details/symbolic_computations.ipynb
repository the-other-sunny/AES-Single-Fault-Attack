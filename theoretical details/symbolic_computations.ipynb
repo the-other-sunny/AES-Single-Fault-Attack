{
 "cells": [
  {
   "cell_type": "markdown",
   "metadata": {},
   "source": [
    "# Deriving some equations\n",
    "\n",
    "The last round key is noted $K$:\n",
    "\n",
    "$$\n",
    "    K =\n",
    "    \\begin{pmatrix}\n",
    "        K_{1} & K_{5} & K_{ 9} & K_{13}\\\\\n",
    "        K_{2} & K_{6} & K_{10} & K_{14}\\\\\n",
    "        K_{3} & K_{7} & K_{11} & K_{15}\\\\\n",
    "        K_{4} & K_{8} & K_{12} & K_{16}\n",
    "    \\end{pmatrix}\n",
    "$$\n",
    "\n",
    "The cipher text is noted $Y$:\n",
    "\n",
    "$$\n",
    "    Y = \n",
    "    \\begin{pmatrix}\n",
    "        Y_{1} & Y_{5} & Y_{ 9} & Y_{13}\\\\\n",
    "        Y_{2} & Y_{6} & Y_{10} & Y_{14}\\\\\n",
    "        Y_{3} & Y_{7} & Y_{11} & Y_{15}\\\\\n",
    "        Y_{4} & Y_{8} & Y_{12} & Y_{16}\n",
    "    \\end{pmatrix}\n",
    "$$\n",
    "\n",
    "Reversing the final state $Y$ to 9-th round output $Y^9$ gives:\n",
    "$$\n",
    "    Y^9 = \n",
    "    \\begin{pmatrix}\n",
    "        \\operatorname{S^{-1}}(K_{ 1} + Y_{ 1}) &\n",
    "        \\operatorname{S^{-1}}(K_{ 5} + Y_{ 5}) &\n",
    "        \\operatorname{S^{-1}}(K_{ 9} + Y_{ 9}) &\n",
    "        \\operatorname{S^{-1}}(K_{13} + Y_{13})\\\\\n",
    "\n",
    "        \\operatorname{S^{-1}}(K_{14} + Y_{14}) &\n",
    "        \\operatorname{S^{-1}}(K_{ 2} + Y_{ 2}) &\n",
    "        \\operatorname{S^{-1}}(K_{ 6} + Y_{ 6}) &\n",
    "        \\operatorname{S^{-1}}(K_{10} + Y_{10})\\\\\n",
    "\n",
    "        \\operatorname{S^{-1}}(K_{11} + Y_{11}) &\n",
    "        \\operatorname{S^{-1}}(K_{15} + Y_{15}) &\n",
    "        \\operatorname{S^{-1}}(K_{ 3} + Y_{ 3}) &\n",
    "        \\operatorname{S^{-1}}(K_{ 7} + Y_{ 7})\\\\\n",
    "\n",
    "        \\operatorname{S^{-1}}(K_{ 8} + Y_{ 8}) &\n",
    "        \\operatorname{S^{-1}}(K_{12} + Y_{12}) &\n",
    "        \\operatorname{S^{-1}}(K_{16} + Y_{16}) &\n",
    "        \\operatorname{S^{-1}}(K_{ 4} + Y_{ 4})\n",
    "    \\end{pmatrix}\n",
    "$$\n",
    "\n",
    "The fault is injected between 7-th round `MixColumns` and 8-th round `MixColumns`.  \n",
    "After the following `MixColumns` (8-th round's one), the differential state consist of a single column $(A, B, C, D)$.  \n",
    "Depending on the location of that column (which depends back on the position the fault was injected at), the differential state obtained after the next `MixColumn` is described below.\n",
    "\n",
    "$$\n",
    "    \\begin{pmatrix}\n",
    "        A & 0 & 0 & 0\\\\\n",
    "        B & 0 & 0 & 0\\\\\n",
    "        C & 0 & 0 & 0\\\\\n",
    "        D & 0 & 0 & 0\n",
    "    \\end{pmatrix}\n",
    "    \\longrightarrow\n",
    "    \\begin{pmatrix}\n",
    "        2A &  D &  C & 3B\\\\\n",
    "        A &  D & 3C & 2B\\\\\n",
    "        A & 3D & 2C &  B\\\\\n",
    "        3A & 2D &  C &  B\n",
    "    \\end{pmatrix}\n",
    "$$\n",
    "\n",
    "$$\n",
    "    \\begin{pmatrix}\n",
    "        0 & A & 0 & 0\\\\\n",
    "        0 & B & 0 & 0\\\\\n",
    "        0 & C & 0 & 0\\\\\n",
    "        0 & D & 0 & 0\n",
    "    \\end{pmatrix}\n",
    "    \\longrightarrow\n",
    "    \\begin{pmatrix}\n",
    "        3B & 2A &  D &  C\\\\\n",
    "        2B &  A &  D & 3C\\\\\n",
    "         B &  A & 3D & 2C\\\\\n",
    "         B & 3A & 2D &  C\n",
    "    \\end{pmatrix}\n",
    "$$\n",
    "\n",
    "$$\n",
    "    \\begin{pmatrix}\n",
    "        0 & 0 & A & 0\\\\\n",
    "        0 & 0 & B & 0\\\\\n",
    "        0 & 0 & C & 0\\\\\n",
    "        0 & 0 & D & 0\n",
    "    \\end{pmatrix}\n",
    "    \\longrightarrow\n",
    "    \\begin{pmatrix}\n",
    "         C & 3B & 2A &  D\\\\\n",
    "        3C & 2B &  A &  D\\\\\n",
    "        2C &  B &  A & 3D\\\\\n",
    "         C &  B & 3A & 2D\n",
    "    \\end{pmatrix}\n",
    "$$\n",
    "\n",
    "$$\n",
    "    \\begin{pmatrix}\n",
    "        0 & 0 & 0 & A\\\\\n",
    "        0 & 0 & 0 & B\\\\\n",
    "        0 & 0 & 0 & C\\\\\n",
    "        0 & 0 & 0 & D\n",
    "    \\end{pmatrix}\n",
    "    \\longrightarrow\n",
    "    \\begin{pmatrix}\n",
    "     D &  C & 3B & 2A\\\\\n",
    "     D & 3C & 2B &  A\\\\\n",
    "    3D & 2C &  B &  A\\\\\n",
    "    2D &  C &  B & 3A\n",
    "    \\end{pmatrix}\n",
    "$$\n",
    "\n",
    "Equating the adequate differential state (from above ones) to $Y^9 \\oplus Y'^9$ gives the equations used for the first stage reduction."
   ]
  },
  {
   "cell_type": "code",
   "execution_count": 1,
   "metadata": {},
   "outputs": [],
   "source": [
    "from IPython.core.display import display\n",
    "import sympy as sp"
   ]
  },
  {
   "cell_type": "code",
   "execution_count": 4,
   "metadata": {},
   "outputs": [],
   "source": [
    "S = sp.Function('S')\n",
    "invS = sp.Function('S^{-1}')\n",
    "\n",
    "P1, P2, P3, P9, P11, P13, P14 = 1, *sp.symbols('P2 P3 P9 P11 P13 P14')\n",
    "\n",
    "def SubBytes(X):\n",
    "    return sp.Matrix([\n",
    "        [S(X[0, 0]), S(X[0, 1]), S(X[0, 2]), S(X[0, 3])],\n",
    "        [S(X[1, 0]), S(X[1, 1]), S(X[1, 2]), S(X[1, 3])],\n",
    "        [S(X[2, 0]), S(X[2, 1]), S(X[2, 2]), S(X[2, 3])],\n",
    "        [S(X[3, 0]), S(X[3, 1]), S(X[3, 2]), S(X[3, 3])]\n",
    "    ])\n",
    "\n",
    "def invSubBytes(X):\n",
    "    return sp.Matrix([\n",
    "        [invS(X[0, 0]), invS(X[0, 1]), invS(X[0, 2]), invS(X[0, 3])],\n",
    "        [invS(X[1, 0]), invS(X[1, 1]), invS(X[1, 2]), invS(X[1, 3])],\n",
    "        [invS(X[2, 0]), invS(X[2, 1]), invS(X[2, 2]), invS(X[2, 3])],\n",
    "        [invS(X[3, 0]), invS(X[3, 1]), invS(X[3, 2]), invS(X[3, 3])]\n",
    "    ])\n",
    "\n",
    "def ShiftRows(X):\n",
    "    return sp.Matrix([\n",
    "        [X[0, 0], X[0, 1], X[0, 2], X[0, 3]],\n",
    "        [X[1, 1], X[1, 2], X[1, 3], X[1, 0]],\n",
    "        [X[2, 2], X[2, 3], X[2, 0], X[2, 1]],\n",
    "        [X[3, 3], X[3, 0], X[3, 1], X[3, 2]]\n",
    "    ])\n",
    "\n",
    "def invShiftRows(X):\n",
    "    return sp.Matrix([\n",
    "        [X[0, 0], X[0, 1], X[0, 2], X[0, 3]],\n",
    "        [X[1, 3], X[1, 0], X[1, 1], X[1, 2]],\n",
    "        [X[2, 2], X[2, 3], X[2, 0], X[2, 1]],\n",
    "        [X[3, 1], X[3, 2], X[3, 3], X[3, 0]]\n",
    "    ])\n",
    "\n",
    "def MixColumns(X):\n",
    "    M = sp.Matrix([\n",
    "        [P2, P3, P1, P1],\n",
    "        [P1, P2, P3, P1],\n",
    "        [P1, P1, P2, P3],\n",
    "        [P3, P1, P1, P2]\n",
    "    ])\n",
    "    return M * X\n",
    "\n",
    "def invMixColumns(X):\n",
    "    M = sp.Matrix([\n",
    "        [P14, P11, P13,  P9],\n",
    "        [ P9, P14, P11, P13],\n",
    "        [P13,  P9, P14, P11],\n",
    "        [P11, P13,  P9, P14]\n",
    "    ])\n",
    "    return M * X"
   ]
  },
  {
   "cell_type": "code",
   "execution_count": 5,
   "metadata": {},
   "outputs": [
    {
     "data": {
      "text/latex": [
       "$\\displaystyle \\left[\\begin{matrix}\\operatorname{S^{-1}}{\\left(K_{1} + Y_{1} \\right)} & \\operatorname{S^{-1}}{\\left(K_{5} + Y_{5} \\right)} & \\operatorname{S^{-1}}{\\left(K_{9} + Y_{9} \\right)} & \\operatorname{S^{-1}}{\\left(K_{13} + Y_{13} \\right)}\\\\\\operatorname{S^{-1}}{\\left(K_{14} + Y_{14} \\right)} & \\operatorname{S^{-1}}{\\left(K_{2} + Y_{2} \\right)} & \\operatorname{S^{-1}}{\\left(K_{6} + Y_{6} \\right)} & \\operatorname{S^{-1}}{\\left(K_{10} + Y_{10} \\right)}\\\\\\operatorname{S^{-1}}{\\left(K_{11} + Y_{11} \\right)} & \\operatorname{S^{-1}}{\\left(K_{15} + Y_{15} \\right)} & \\operatorname{S^{-1}}{\\left(K_{3} + Y_{3} \\right)} & \\operatorname{S^{-1}}{\\left(K_{7} + Y_{7} \\right)}\\\\\\operatorname{S^{-1}}{\\left(K_{8} + Y_{8} \\right)} & \\operatorname{S^{-1}}{\\left(K_{12} + Y_{12} \\right)} & \\operatorname{S^{-1}}{\\left(K_{16} + Y_{16} \\right)} & \\operatorname{S^{-1}}{\\left(K_{4} + Y_{4} \\right)}\\end{matrix}\\right]$"
      ],
      "text/plain": [
       "Matrix([\n",
       "[  S^{-1}(K1 + Y1),   S^{-1}(K5 + Y5),   S^{-1}(K9 + Y9), S^{-1}(K13 + Y13)],\n",
       "[S^{-1}(K14 + Y14),   S^{-1}(K2 + Y2),   S^{-1}(K6 + Y6), S^{-1}(K10 + Y10)],\n",
       "[S^{-1}(K11 + Y11), S^{-1}(K15 + Y15),   S^{-1}(K3 + Y3),   S^{-1}(K7 + Y7)],\n",
       "[  S^{-1}(K8 + Y8), S^{-1}(K12 + Y12), S^{-1}(K16 + Y16),   S^{-1}(K4 + Y4)]])"
      ]
     },
     "metadata": {},
     "output_type": "display_data"
    },
    {
     "data": {
      "text/latex": [
       "$\\displaystyle \\left[\\begin{matrix}A P_{2} & D & C & B P_{3}\\\\A & D & C P_{3} & B P_{2}\\\\A & D P_{3} & C P_{2} & B\\\\A P_{3} & D P_{2} & C & B\\end{matrix}\\right]$"
      ],
      "text/plain": [
       "Matrix([\n",
       "[A*P2,    D,    C, B*P3],\n",
       "[   A,    D, C*P3, B*P2],\n",
       "[   A, D*P3, C*P2,    B],\n",
       "[A*P3, D*P2,    C,    B]])"
      ]
     },
     "metadata": {},
     "output_type": "display_data"
    },
    {
     "data": {
      "text/latex": [
       "$\\displaystyle \\left[\\begin{matrix}B P_{3} & A P_{2} & D & C\\\\B P_{2} & A & D & C P_{3}\\\\B & A & D P_{3} & C P_{2}\\\\B & A P_{3} & D P_{2} & C\\end{matrix}\\right]$"
      ],
      "text/plain": [
       "Matrix([\n",
       "[B*P3, A*P2,    D,    C],\n",
       "[B*P2,    A,    D, C*P3],\n",
       "[   B,    A, D*P3, C*P2],\n",
       "[   B, A*P3, D*P2,    C]])"
      ]
     },
     "metadata": {},
     "output_type": "display_data"
    },
    {
     "data": {
      "text/latex": [
       "$\\displaystyle \\left[\\begin{matrix}C & B P_{3} & A P_{2} & D\\\\C P_{3} & B P_{2} & A & D\\\\C P_{2} & B & A & D P_{3}\\\\C & B & A P_{3} & D P_{2}\\end{matrix}\\right]$"
      ],
      "text/plain": [
       "Matrix([\n",
       "[   C, B*P3, A*P2,    D],\n",
       "[C*P3, B*P2,    A,    D],\n",
       "[C*P2,    B,    A, D*P3],\n",
       "[   C,    B, A*P3, D*P2]])"
      ]
     },
     "metadata": {},
     "output_type": "display_data"
    },
    {
     "data": {
      "text/latex": [
       "$\\displaystyle \\left[\\begin{matrix}D & C & B P_{3} & A P_{2}\\\\D & C P_{3} & B P_{2} & A\\\\D P_{3} & C P_{2} & B & A\\\\D P_{2} & C & B & A P_{3}\\end{matrix}\\right]$"
      ],
      "text/plain": [
       "Matrix([\n",
       "[   D,    C, B*P3, A*P2],\n",
       "[   D, C*P3, B*P2,    A],\n",
       "[D*P3, C*P2,    B,    A],\n",
       "[D*P2,    C,    B, A*P3]])"
      ]
     },
     "metadata": {},
     "output_type": "display_data"
    }
   ],
   "source": [
    "ind = [[1, 5,  9, 13],\n",
    "       [2, 6, 10, 14],\n",
    "       [3, 7, 11, 15],\n",
    "       [4, 8, 12, 16]]\n",
    "\n",
    "K = sp.symbols('K0:17')\n",
    "K = sp.Matrix([[K[ind[i][j]] for j in range(4)] for i in range(4)])\n",
    "\n",
    "Y = sp.symbols('Y0:17')\n",
    "Y = sp.Matrix([[Y[ind[i][j]] for j in range(4)] for i in range(4)])\n",
    "\n",
    "A, B, C, D = sp.symbols('A B C D')\n",
    "\n",
    "Delta1 = sp.Matrix([\n",
    "       [A, 0, 0, 0],\n",
    "       [B, 0, 0, 0],\n",
    "       [C, 0, 0, 0],\n",
    "       [D, 0, 0, 0]\n",
    "])\n",
    "\n",
    "Delta2 = sp.Matrix([\n",
    "       [0, A, 0, 0],\n",
    "       [0, B, 0, 0],\n",
    "       [0, C, 0, 0],\n",
    "       [0, D, 0, 0]\n",
    "])\n",
    "\n",
    "Delta3 = sp.Matrix([\n",
    "       [0, 0, A, 0],\n",
    "       [0, 0, B, 0],\n",
    "       [0, 0, C, 0],\n",
    "       [0, 0, D, 0]\n",
    "])\n",
    "\n",
    "Delta4 = sp.Matrix([\n",
    "       [0, 0, 0, A],\n",
    "       [0, 0, 0, B],\n",
    "       [0, 0, 0, C],\n",
    "       [0, 0, 0, D]\n",
    "])\n",
    "\n",
    "display(invSubBytes(invShiftRows(Y+K)))\n",
    "\n",
    "display(MixColumns(ShiftRows(Delta1)))\n",
    "display(MixColumns(ShiftRows(Delta2)))\n",
    "display(MixColumns(ShiftRows(Delta3)))\n",
    "display(MixColumns(ShiftRows(Delta4)))"
   ]
  },
  {
   "cell_type": "code",
   "execution_count": null,
   "metadata": {},
   "outputs": [],
   "source": []
  }
 ],
 "metadata": {
  "interpreter": {
   "hash": "df0893f56f349688326838aaeea0de204df53a132722cbd565e54b24a8fec5f6"
  },
  "kernelspec": {
   "display_name": "Python 3.8.10 64-bit",
   "language": "python",
   "name": "python3"
  },
  "language_info": {
   "codemirror_mode": {
    "name": "ipython",
    "version": 3
   },
   "file_extension": ".py",
   "mimetype": "text/x-python",
   "name": "python",
   "nbconvert_exporter": "python",
   "pygments_lexer": "ipython3",
   "version": "3.8.10"
  },
  "orig_nbformat": 4
 },
 "nbformat": 4,
 "nbformat_minor": 2
}
