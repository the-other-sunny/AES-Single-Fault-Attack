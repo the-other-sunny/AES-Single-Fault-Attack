{
 "cells": [
  {
   "cell_type": "code",
   "execution_count": 1,
   "metadata": {},
   "outputs": [],
   "source": [
    "from aes_utils.aes_utils import *\n",
    "\n",
    "import numpy as np"
   ]
  },
  {
   "cell_type": "code",
   "execution_count": 2,
   "metadata": {},
   "outputs": [],
   "source": [
    "rng = np.random.default_rng(0)\n",
    "\n",
    "def AES128_encrypt_with_fault(state, key, pos=(0, 0), fault=0):\n",
    "    keys = list(key_expansion(key, 10))\n",
    "\n",
    "    # round 0\n",
    "    state = state ^ keys[0]\n",
    "\n",
    "    # round 1..9\n",
    "    for round in range(1, 10):\n",
    "        \n",
    "        if round == 8:\n",
    "            state[pos] ^= fault\n",
    "            \n",
    "        state = sub_bytes(state)\n",
    "        state = shift_rows(state)\n",
    "        state = mix_columns(state)\n",
    "        state = state ^ keys[round]\n",
    "    \n",
    "    # round 10\n",
    "    state = sub_bytes(state)\n",
    "    state = shift_rows(state)\n",
    "    state = state ^ keys[10]\n",
    "    \n",
    "    return state\n",
    "\n",
    "# def it_AES128_encrypt_with_fault(state, key, fault=0):\n",
    "#     keys = list(key_expansion(key, 10))\n",
    "#     state = state ^ keys[0]\n",
    "#     yield state.copy()\n",
    "\n",
    "#     for round in range(1, 10):\n",
    "#         if round == 8:\n",
    "#             state[0, 0] ^= fault\n",
    "#         state = mix_columns(shift_rows(sub_bytes(state))) ^ keys[round]\n",
    "#         yield state.copy()\n",
    "    \n",
    "#     state = shift_rows(sub_bytes(state)) ^ keys[10]\n",
    "#     yield state.copy()\n",
    "\n",
    "def random_state():\n",
    "    return rng.integers(256, size=(4, 4), dtype=np.uint8)\n",
    "\n",
    "def print_state(X, compact=True):\n",
    "    if compact:\n",
    "        print(*(f'{x:02x}' for x in X.flatten('F')), sep='')\n",
    "    else:\n",
    "        print(*(f'0x{x:02x}' for x in X.flatten('F')), sep=', ')\n",
    "\n",
    "def repr_state(X, compact=False):\n",
    "    if compact:\n",
    "        return ''.join(f'{x:02x}' for x in X.flatten('F'))\n",
    "    else:\n",
    "        return ', '.join(f'0x{x:02x}' for x in X.flatten('F'))\n",
    "\n",
    "def fault_position_index_to_ij(index):\n",
    "    j, i = divmod(index, 4)\n",
    "    return i, j\n",
    "\n",
    "def print_third_stage_test(X, Y, Y_, K0, fault_position):\n",
    "    print(\"tuple<FlatState, FlatState, FlatState, FlatState, size_t> {\");\n",
    "    print(f\"    {{{repr_state(X)}}},\")\n",
    "    print(f\"    {{{repr_state(Y)}}},\")\n",
    "    print(f\"    {{{repr_state(Y_)}}},\")\n",
    "    print(f\"    {{{repr_state(K0)}}},\")\n",
    "    print(f\"    {fault_position}\")\n",
    "    print(\"},\")"
   ]
  },
  {
   "cell_type": "code",
   "execution_count": 3,
   "metadata": {},
   "outputs": [],
   "source": [
    "rng = np.random.default_rng()\n",
    "\n",
    "K0 = random_state()\n",
    "K10 = list(key_expansion(K0))[-1]\n",
    "# X = np.zeros((4, 4), dtype=np.uint8)\n",
    "X = random_state()\n",
    "\n",
    "Y  = AES128_encrypt(X, K0)\n",
    "Y_ = AES128_encrypt_with_fault(X, K0, pos=(0, 0), fault=rng.integers(256))\n",
    "\n",
    "for _ in range(0):\n",
    "    K = random_state()\n",
    "    X = random_state()\n",
    "\n",
    "    fault_position = rng.integers(16)\n",
    "    ij_position = fault_position_index_to_ij(fault_position)\n",
    "\n",
    "    Y  = AES128_encrypt(X, K)\n",
    "    Y_ = AES128_encrypt_with_fault(X, K, pos=ij_position, fault=rng.integers(256))\n",
    "\n",
    "    print_third_stage_test(X, Y, Y_, K, fault_position)"
   ]
  },
  {
   "cell_type": "code",
   "execution_count": 10,
   "metadata": {},
   "outputs": [
    {
     "name": "stdout",
     "output_type": "stream",
     "text": [
      "7a9e2ffeffd7d96127746ce6092462c5 b5a92733b663711e1659b4caab7fb22f eed659d47b0b302641c816fa79bb7ac9 9\n",
      "af63494273c40dc98bb7974f60e9cb5d\n"
     ]
    }
   ],
   "source": [
    "X = random_state()\n",
    "K = random_state()\n",
    "\n",
    "fault_position = rng.integers(16)\n",
    "ij_position = fault_position_index_to_ij(fault_position)\n",
    "\n",
    "Y  = AES128_encrypt(X, K)\n",
    "Y_ = AES128_encrypt_with_fault(X, K, pos=ij_position, fault=rng.integers(256))\n",
    "\n",
    "\n",
    "str_X = repr_state(X, compact=True);\n",
    "str_Y = repr_state(Y, compact=True);\n",
    "str_Y_ = repr_state(Y_, compact=True);\n",
    "\n",
    "print(str_X, str_Y, str_Y_, fault_position);\n",
    "print_state(K)"
   ]
  },
  {
   "cell_type": "code",
   "execution_count": null,
   "metadata": {},
   "outputs": [],
   "source": []
  }
 ],
 "metadata": {
  "interpreter": {
   "hash": "9e31e52140324ce1de2e459c27797ce656ededa0063fb1587bccbd1e05c3b0b4"
  },
  "kernelspec": {
   "display_name": "Python 3.10.0 64-bit",
   "language": "python",
   "name": "python3"
  },
  "language_info": {
   "codemirror_mode": {
    "name": "ipython",
    "version": 3
   },
   "file_extension": ".py",
   "mimetype": "text/x-python",
   "name": "python",
   "nbconvert_exporter": "python",
   "pygments_lexer": "ipython3",
   "version": "3.10.0"
  },
  "orig_nbformat": 4
 },
 "nbformat": 4,
 "nbformat_minor": 2
}
